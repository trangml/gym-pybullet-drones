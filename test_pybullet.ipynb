{
 "cells": [
  {
   "cell_type": "code",
   "execution_count": 1,
   "metadata": {},
   "outputs": [
    {
     "name": "stderr",
     "output_type": "stream",
     "text": [
      "pybullet build time: Oct 11 2021 20:59:00\n"
     ]
    },
    {
     "name": "stdout",
     "output_type": "stream",
     "text": [
      "startThreads creating 1 threads.\n",
      "starting thread 0\n",
      "started thread 0 \n",
      "argc=2\n",
      "argv[0] = --unused\n",
      "argv[1] = --start_demo_name=Physics Server\n",
      "ExampleBrowserThreadFunc started\n",
      "X11 functions dynamically loaded using dlopen/dlsym OK!\n",
      "X11 functions dynamically loaded using dlopen/dlsym OK!\n",
      "Creating context\n",
      "Created GL 3.3 context\n",
      "Direct GLX rendering context obtained\n",
      "Making context current\n",
      "GL_VENDOR=NVIDIA Corporation\n",
      "GL_RENDERER=NVIDIA GeForce GTX 1050 Ti/PCIe/SSE2\n",
      "GL_VERSION=3.3.0 NVIDIA 470.74\n",
      "GL_SHADING_LANGUAGE_VERSION=3.30 NVIDIA via Cg compiler\n",
      "pthread_getconcurrency()=0\n",
      "Version = 3.3.0 NVIDIA 470.74\n",
      "Vendor = NVIDIA Corporation\n",
      "Renderer = NVIDIA GeForce GTX 1050 Ti/PCIe/SSE2\n",
      "b3Printf: Selected demo: Physics Server\n",
      "startThreads creating 1 threads.\n",
      "starting thread 0\n",
      "started thread 0 \n",
      "MotionThreadFunc thread started\n",
      "ven = NVIDIA Corporation\n"
     ]
    },
    {
     "data": {
      "text/plain": [
       "0"
      ]
     },
     "execution_count": 1,
     "metadata": {},
     "output_type": "execute_result"
    }
   ],
   "source": [
    "import pybullet\n",
    "pybullet.connect(pybullet.GUI)"
   ]
  },
  {
   "cell_type": "code",
   "execution_count": 2,
   "metadata": {},
   "outputs": [
    {
     "name": "stdout",
     "output_type": "stream",
     "text": [
      "ven = NVIDIA Corporation\n"
     ]
    }
   ],
   "source": [
    "import pybullet_data\n",
    "pybullet.setAdditionalSearchPath(pybullet_data.getDataPath())\n"
   ]
  },
  {
   "cell_type": "code",
   "execution_count": 8,
   "metadata": {},
   "outputs": [
    {
     "name": "stdout",
     "output_type": "stream",
     "text": [
      "b3Printf: b3Warning[examples/Importers/ImportURDFDemo/BulletUrdfImporter.cpp,126]:\n",
      "\n",
      "b3Printf: No inertial data for link, using mass=1, localinertiadiagonal = 1,1,1, identity local inertial frame\n",
      "b3Printf: b3Warning[examples/Importers/ImportURDFDemo/BulletUrdfImporter.cpp,126]:\n",
      "\n",
      "b3Printf: tool0\n",
      "b3Printf: b3Warning[examples/Importers/ImportURDFDemo/BulletUrdfImporter.cpp,126]:\n",
      "\n",
      "b3Printf: No inertial data for link, using mass=1, localinertiadiagonal = 1,1,1, identity local inertial frame\n",
      "b3Printf: b3Warning[examples/Importers/ImportURDFDemo/BulletUrdfImporter.cpp,126]:\n",
      "\n",
      "b3Printf: Link1\n",
      "b3Printf: b3Warning[examples/Importers/ImportURDFDemo/BulletUrdfImporter.cpp,1159]:\n",
      "\n",
      "b3Printf: kuka_experimental/kuka_kr210_support/urdf/: cannot extract anything useful from mesh 'kuka_experimental/kuka_kr210_support/meshes/kr210l150/visual/base_link.dae'\n",
      "\n",
      "b3Printf: b3Warning[examples/SharedMemory/plugins/tinyRendererPlugin/TinyRendererVisualShapeConverter.cpp,558]:\n",
      "\n",
      "b3Printf: issue extracting mesh from COLLADA/STL file kuka_experimental/kuka_kr210_support/meshes/kr210l150/visual/base_link.dae\n",
      "\n",
      "b3Printf: b3Warning[examples/Importers/ImportURDFDemo/BulletUrdfImporter.cpp,1159]:\n",
      "\n",
      "b3Printf: kuka_experimental/kuka_kr210_support/urdf/: cannot extract anything useful from mesh 'kuka_experimental/kuka_kr210_support/meshes/kr210l150/visual/link_1.dae'\n",
      "\n",
      "b3Printf: b3Warning[examples/SharedMemory/plugins/tinyRendererPlugin/TinyRendererVisualShapeConverter.cpp,558]:\n",
      "\n",
      "b3Printf: issue extracting mesh from COLLADA/STL file kuka_experimental/kuka_kr210_support/meshes/kr210l150/visual/link_1.dae\n",
      "\n",
      "b3Printf: b3Warning[examples/Importers/ImportURDFDemo/BulletUrdfImporter.cpp,1159]:\n",
      "\n",
      "b3Printf: kuka_experimental/kuka_kr210_support/urdf/: cannot extract anything useful from mesh 'kuka_experimental/kuka_kr210_support/meshes/kr210l150/visual/link_2.dae'\n",
      "\n",
      "b3Printf: b3Warning[examples/SharedMemory/plugins/tinyRendererPlugin/TinyRendererVisualShapeConverter.cpp,558]:\n",
      "\n",
      "b3Printf: issue extracting mesh from COLLADA/STL file kuka_experimental/kuka_kr210_support/meshes/kr210l150/visual/link_2.dae\n",
      "\n",
      "b3Printf: b3Warning[examples/Importers/ImportURDFDemo/BulletUrdfImporter.cpp,1159]:\n",
      "\n",
      "b3Printf: kuka_experimental/kuka_kr210_support/urdf/: cannot extract anything useful from mesh 'kuka_experimental/kuka_kr210_support/meshes/kr210l150/visual/link_3.dae'\n",
      "\n",
      "b3Printf: b3Warning[examples/SharedMemory/plugins/tinyRendererPlugin/TinyRendererVisualShapeConverter.cpp,558]:\n",
      "\n",
      "b3Printf: issue extracting mesh from COLLADA/STL file kuka_experimental/kuka_kr210_support/meshes/kr210l150/visual/link_3.dae\n",
      "\n",
      "b3Printf: b3Warning[examples/Importers/ImportURDFDemo/BulletUrdfImporter.cpp,1159]:\n",
      "\n",
      "b3Printf: kuka_experimental/kuka_kr210_support/urdf/: cannot extract anything useful from mesh 'kuka_experimental/kuka_kr210_support/meshes/kr210l150/visual/link_4.dae'\n",
      "\n",
      "b3Printf: b3Warning[examples/SharedMemory/plugins/tinyRendererPlugin/TinyRendererVisualShapeConverter.cpp,558]:\n",
      "\n",
      "b3Printf: issue extracting mesh from COLLADA/STL file kuka_experimental/kuka_kr210_support/meshes/kr210l150/visual/link_4.dae\n",
      "\n",
      "b3Printf: b3Warning[examples/Importers/ImportURDFDemo/BulletUrdfImporter.cpp,1159]:\n",
      "\n",
      "b3Printf: kuka_experimental/kuka_kr210_support/urdf/: cannot extract anything useful from mesh 'kuka_experimental/kuka_kr210_support/meshes/kr210l150/visual/link_5.dae'\n",
      "\n",
      "b3Printf: b3Warning[examples/SharedMemory/plugins/tinyRendererPlugin/TinyRendererVisualShapeConverter.cpp,558]:\n",
      "\n",
      "b3Printf: issue extracting mesh from COLLADA/STL file kuka_experimental/kuka_kr210_support/meshes/kr210l150/visual/link_5.dae\n",
      "\n",
      "b3Printf: b3Warning[examples/Importers/ImportURDFDemo/BulletUrdfImporter.cpp,1159]:\n",
      "\n",
      "b3Printf: kuka_experimental/kuka_kr210_support/urdf/: cannot extract anything useful from mesh 'kuka_experimental/kuka_kr210_support/meshes/kr210l150/visual/link_6.dae'\n",
      "\n",
      "b3Printf: b3Warning[examples/SharedMemory/plugins/tinyRendererPlugin/TinyRendererVisualShapeConverter.cpp,558]:\n",
      "\n",
      "b3Printf: issue extracting mesh from COLLADA/STL file kuka_experimental/kuka_kr210_support/meshes/kr210l150/visual/link_6.dae\n",
      "\n"
     ]
    }
   ],
   "source": [
    "pybullet.resetSimulation()\n",
    "plane = pybullet.loadURDF(\"plane.urdf\")\n",
    "robot = pybullet.loadURDF(\"kuka_experimental/kuka_kr210_support/urdf/kr210l150.urdf\",\n",
    "                          [0, 0, 0], useFixedBase=1)  # use a fixed base!\n",
    "pybullet.setGravity(0, 0, -9.81)\n",
    "pybullet.setTimeStep(0.0001)\n",
    "pybullet.setRealTimeSimulation(0)"
   ]
  },
  {
   "cell_type": "code",
   "execution_count": 9,
   "metadata": {},
   "outputs": [],
   "source": [
    "box  = pybullet.loadURDF(\"block.urdf\", [1, 0, 3],globalScaling=10)"
   ]
  },
  {
   "cell_type": "code",
   "execution_count": 5,
   "metadata": {},
   "outputs": [],
   "source": [
    "plate = pybullet.loadURDF(\"/home/mattluutrang/Documents/vt/research/pybullet-URDF-models/urdf_models/models/square_plate_1/model.urdf\", [3,0,3], useFixedBase=0);\n"
   ]
  },
  {
   "cell_type": "code",
   "execution_count": 6,
   "metadata": {},
   "outputs": [],
   "source": [
    "cubeStartPos = [0,0,3] \n",
    "cubeStartOrientation = pybullet.getQuaternionFromEuler([0,0,0]) \n",
    "boxId = pybullet.loadURDF(\"r2d2.urdf\",cubeStartPos, cubeStartOrientation)"
   ]
  },
  {
   "cell_type": "code",
   "execution_count": 10,
   "metadata": {},
   "outputs": [],
   "source": [
    "pybullet.setJointMotorControlArray(\n",
    "    robot, range(6), pybullet.POSITION_CONTROL,\n",
    "    targetPositions=[0.1] * 6)\n",
    "for _ in range(10000):\n",
    "    pybullet.stepSimulation()"
   ]
  }
 ],
 "metadata": {
  "interpreter": {
   "hash": "9ab9df8beacb219584f65174613569db48c7e767ffb4cc6f2884a539b7527a70"
  },
  "kernelspec": {
   "display_name": "Python 3.7.11 64-bit ('safe': conda)",
   "language": "python",
   "name": "python3"
  },
  "language_info": {
   "codemirror_mode": {
    "name": "ipython",
    "version": 3
   },
   "file_extension": ".py",
   "mimetype": "text/x-python",
   "name": "python",
   "nbconvert_exporter": "python",
   "pygments_lexer": "ipython3",
   "version": "3.7.11"
  },
  "orig_nbformat": 4
 },
 "nbformat": 4,
 "nbformat_minor": 2
}
